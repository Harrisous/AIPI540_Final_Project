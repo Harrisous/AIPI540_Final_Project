{
 "cells": [
  {
   "cell_type": "markdown",
   "id": "ebf589e9",
   "metadata": {},
   "source": [
    "## 1. TopK"
   ]
  },
  {
   "cell_type": "code",
   "execution_count": 1,
   "id": "4f2f9e36",
   "metadata": {},
   "outputs": [
    {
     "name": "stdout",
     "output_type": "stream",
     "text": [
      "tensor([[4, 3],\n",
      "        [9, 5],\n",
      "        [6, 5]])\n",
      "tensor([[2, 0],\n",
      "        [2, 1],\n",
      "        [1, 2]])\n"
     ]
    }
   ],
   "source": [
    "import torch\n",
    "\n",
    "x = torch.tensor([\n",
    "        [3,1,4],\n",
    "        [1,5,9],\n",
    "        [2,6,5]\n",
    "])\n",
    "values, indices = torch.topk(x, k=2, dim=1) # pick the top k value and indices from each row\n",
    "print(values)\n",
    "print(indices)"
   ]
  },
  {
   "cell_type": "markdown",
   "id": "16c9dc1b",
   "metadata": {},
   "source": [
    "## 2. scatter_ and gather"
   ]
  },
  {
   "cell_type": "code",
   "execution_count": null,
   "id": "60b32302",
   "metadata": {},
   "outputs": [
    {
     "name": "stdout",
     "output_type": "stream",
     "text": [
      "tensor([[1., 0., 1.],\n",
      "        [0., 1., 1.],\n",
      "        [0., 1., 1.]])\n",
      "tensor([[30, 10],\n",
      "        [50, 60],\n",
      "        [70, 80]])\n"
     ]
    }
   ],
   "source": [
    "# torch.scatter_(dim, index, src)-> create a mask\n",
    "indices = torch.tensor([\n",
    "    [0,2],\n",
    "    [1,2],\n",
    "    [1,2]                    \n",
    "])\n",
    "x = torch.zeros([3,3]).scatter_(1, indices, True) # give src to the indexed values\n",
    "print(x)\n",
    "# torch.gather(input, dim, index) -> collect value to create a new tensor\n",
    "input_tensor = torch.tensor([\n",
    "    [10,20,30],\n",
    "    [40,50,60],\n",
    "    [70,80,90]\n",
    "])\n",
    "index_tensor = torch.tensor([\n",
    "    [2,0],\n",
    "    [1,2],\n",
    "    [0,1]\n",
    "])\n",
    "output = torch.gather(input_tensor, dim=1, index=index_tensor)\n",
    "print(output)"
   ]
  },
  {
   "cell_type": "markdown",
   "id": "ef9d8932",
   "metadata": {},
   "source": [
    "## 3. Unsqueeze"
   ]
  },
  {
   "cell_type": "code",
   "execution_count": 5,
   "id": "73578a7d",
   "metadata": {},
   "outputs": [
    {
     "name": "stdout",
     "output_type": "stream",
     "text": [
      "torch.Size([1, 2, 2])\n",
      "torch.Size([2, 1, 2])\n",
      "torch.Size([2, 2, 1])\n"
     ]
    }
   ],
   "source": [
    "# unsqueeze\n",
    "x = torch.tensor([\n",
    "    [1,2],\n",
    "    [3,4]\n",
    "])\n",
    "\n",
    "y = torch.unsqueeze(x, dim=0)\n",
    "print(y.shape)\n",
    "z = torch.unsqueeze(x, dim=1)\n",
    "print(z.shape)\n",
    "w = torch.unsqueeze(x, dim=2)\n",
    "print(w.shape)"
   ]
  },
  {
   "cell_type": "markdown",
   "id": "c44040e6",
   "metadata": {},
   "source": [
    "## 4. Bincount"
   ]
  },
  {
   "cell_type": "code",
   "execution_count": null,
   "id": "0809f9bb",
   "metadata": {},
   "outputs": [
    {
     "name": "stdout",
     "output_type": "stream",
     "text": [
      "tensor([0, 2, 2, 0, 0, 0, 0, 0, 0, 0, 1])\n"
     ]
    }
   ],
   "source": [
    "input_tensor = torch.tensor([1,1,2,2,10])\n",
    "output = torch.bincount(input_tensor)\n",
    "print(output)\n",
    "\n",
    "# tensor([0, 2, 2, 0, 0, 0, 0, 0, 0, 0, 1])\n",
    "# tensor([0, 1, 2, 3, 4, 5, 6, 7, 8, 9, 10])"
   ]
  },
  {
   "cell_type": "markdown",
   "id": "243b5e0b",
   "metadata": {},
   "source": [
    "## 5. where"
   ]
  },
  {
   "cell_type": "code",
   "execution_count": null,
   "id": "f6394482",
   "metadata": {},
   "outputs": [
    {
     "name": "stdout",
     "output_type": "stream",
     "text": [
      "(tensor([0, 1]), tensor([1, 1]))\n"
     ]
    }
   ],
   "source": [
    "input_tensor = torch.tensor([\n",
    "    [1,2],\n",
    "    [3,2]\n",
    "])\n",
    "\n",
    "indices = torch.where(input_tensor==2)\n",
    "print(indices) # output tuple of 2*2 tensors that represent position matching the indices\n"
   ]
  }
 ],
 "metadata": {
  "kernelspec": {
   "display_name": ".venv",
   "language": "python",
   "name": "python3"
  },
  "language_info": {
   "codemirror_mode": {
    "name": "ipython",
    "version": 3
   },
   "file_extension": ".py",
   "mimetype": "text/x-python",
   "name": "python",
   "nbconvert_exporter": "python",
   "pygments_lexer": "ipython3",
   "version": "3.10.12"
  }
 },
 "nbformat": 4,
 "nbformat_minor": 5
}
